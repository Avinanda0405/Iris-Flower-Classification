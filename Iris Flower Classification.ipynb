{
 "cells": [
  {
   "cell_type": "code",
   "execution_count": 1,
   "id": "5b92481e-5ff3-4531-9458-0a87c3b4ae69",
   "metadata": {},
   "outputs": [],
   "source": [
    "import pandas as pd\n",
    "from sklearn.datasets import load_iris\n",
    "iris=load_iris()"
   ]
  },
  {
   "cell_type": "code",
   "execution_count": 2,
   "id": "828601f6-ca86-413b-9664-58a00a2f2343",
   "metadata": {},
   "outputs": [
    {
     "name": "stdout",
     "output_type": "stream",
     "text": [
      "['sepal length (cm)', 'sepal width (cm)', 'petal length (cm)', 'petal width (cm)']\n",
      "['setosa' 'versicolor' 'virginica']\n"
     ]
    }
   ],
   "source": [
    "features=iris.feature_names\n",
    "target=iris.target_names\n",
    "print(features)\n",
    "print(target)\n",
    "X=iris.data\n",
    "y=iris.target"
   ]
  },
  {
   "cell_type": "code",
   "execution_count": 4,
   "id": "9099a411-822e-435f-a6b3-07b766d5efaa",
   "metadata": {},
   "outputs": [
    {
     "data": {
      "text/plain": [
       "0.05263157894736842"
      ]
     },
     "execution_count": 4,
     "metadata": {},
     "output_type": "execute_result"
    }
   ],
   "source": [
    "from sklearn.tree import DecisionTreeRegressor\n",
    "from sklearn.model_selection import train_test_split\n",
    "from sklearn.metrics import mean_absolute_error\n",
    "train_X,val_X,train_y,val_y=train_test_split(X,y)\n",
    "# Define Model\n",
    "model=DecisionTreeRegressor()\n",
    "# Fit Model\n",
    "model.fit(train_X,train_y)\n",
    "# Make Predictions\n",
    "prediction=model.predict(val_X)\n",
    "# Find mean absolute error\n",
    "mean_absolute_error(val_y,prediction)"
   ]
  },
  {
   "cell_type": "code",
   "execution_count": 5,
   "id": "837e2d74-8e80-4371-a50b-e4b772534a48",
   "metadata": {},
   "outputs": [
    {
     "name": "stdout",
     "output_type": "stream",
     "text": [
      "Accuracy in percentage(%):  94.73684210526315\n"
     ]
    }
   ],
   "source": [
    "from sklearn.metrics import accuracy_score\n",
    "# Find accuracy \n",
    "print(\"Accuracy in percentage(%): \",accuracy_score(val_y,prediction)*100)"
   ]
  },
  {
   "cell_type": "code",
   "execution_count": 6,
   "id": "f90f5489-3f8e-4050-af43-cb154a9b90fa",
   "metadata": {},
   "outputs": [
    {
     "name": "stdout",
     "output_type": "stream",
     "text": [
      "Predicted species:  versicolor\n"
     ]
    }
   ],
   "source": [
    "# input measurements\n",
    "sample = [[6.7, 3.1, 4.7, 1.5]]\n",
    "predicted_class = model.predict(sample)\n",
    "# Get species name\n",
    "species_name = iris.target_names[int(predicted_class[0])]\n",
    "print(\"Predicted species: \",species_name)"
   ]
  },
  {
   "cell_type": "code",
   "execution_count": null,
   "id": "79950516-1d73-4ecc-a146-70cdef374e3a",
   "metadata": {},
   "outputs": [],
   "source": []
  }
 ],
 "metadata": {
  "kernelspec": {
   "display_name": "Python 3 (ipykernel)",
   "language": "python",
   "name": "python3"
  },
  "language_info": {
   "codemirror_mode": {
    "name": "ipython",
    "version": 3
   },
   "file_extension": ".py",
   "mimetype": "text/x-python",
   "name": "python",
   "nbconvert_exporter": "python",
   "pygments_lexer": "ipython3",
   "version": "3.13.0"
  }
 },
 "nbformat": 4,
 "nbformat_minor": 5
}
